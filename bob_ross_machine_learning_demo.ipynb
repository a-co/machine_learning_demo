{
 "cells": [
  {
   "cell_type": "markdown",
   "metadata": {},
   "source": [
    "# Machine Learning with Bob Ross"
   ]
  },
  {
   "cell_type": "markdown",
   "metadata": {},
   "source": [
    "### Unsupervised learning\n"
   ]
  },
  {
   "cell_type": "code",
   "execution_count": 1,
   "metadata": {},
   "outputs": [],
   "source": [
    "import numpy as np\n",
    "import pandas as pd\n",
    "import matplotlib.pyplot as plt"
   ]
  },
  {
   "cell_type": "code",
   "execution_count": 2,
   "metadata": {},
   "outputs": [
    {
     "data": {
      "text/html": [
       "<div>\n",
       "<style scoped>\n",
       "    .dataframe tbody tr th:only-of-type {\n",
       "        vertical-align: middle;\n",
       "    }\n",
       "\n",
       "    .dataframe tbody tr th {\n",
       "        vertical-align: top;\n",
       "    }\n",
       "\n",
       "    .dataframe thead th {\n",
       "        text-align: right;\n",
       "    }\n",
       "</style>\n",
       "<table border=\"1\" class=\"dataframe\">\n",
       "  <thead>\n",
       "    <tr style=\"text-align: right;\">\n",
       "      <th></th>\n",
       "      <th>APPLE_FRAME</th>\n",
       "      <th>AURORA_BOREALIS</th>\n",
       "      <th>BARN</th>\n",
       "      <th>BEACH</th>\n",
       "      <th>BOAT</th>\n",
       "      <th>BRIDGE</th>\n",
       "      <th>BUILDING</th>\n",
       "      <th>BUSHES</th>\n",
       "      <th>CABIN</th>\n",
       "      <th>CACTUS</th>\n",
       "      <th>...</th>\n",
       "      <th>TOMB_FRAME</th>\n",
       "      <th>TREE</th>\n",
       "      <th>TREES</th>\n",
       "      <th>TRIPLE_FRAME</th>\n",
       "      <th>WATERFALL</th>\n",
       "      <th>WAVES</th>\n",
       "      <th>WINDMILL</th>\n",
       "      <th>WINDOW_FRAME</th>\n",
       "      <th>WINTER</th>\n",
       "      <th>WOOD_FRAMED</th>\n",
       "    </tr>\n",
       "    <tr>\n",
       "      <th>TITLE</th>\n",
       "      <th></th>\n",
       "      <th></th>\n",
       "      <th></th>\n",
       "      <th></th>\n",
       "      <th></th>\n",
       "      <th></th>\n",
       "      <th></th>\n",
       "      <th></th>\n",
       "      <th></th>\n",
       "      <th></th>\n",
       "      <th></th>\n",
       "      <th></th>\n",
       "      <th></th>\n",
       "      <th></th>\n",
       "      <th></th>\n",
       "      <th></th>\n",
       "      <th></th>\n",
       "      <th></th>\n",
       "      <th></th>\n",
       "      <th></th>\n",
       "      <th></th>\n",
       "    </tr>\n",
       "  </thead>\n",
       "  <tbody>\n",
       "    <tr>\n",
       "      <th>\"A WALK IN THE WOODS\"</th>\n",
       "      <td>0</td>\n",
       "      <td>0</td>\n",
       "      <td>0</td>\n",
       "      <td>0</td>\n",
       "      <td>0</td>\n",
       "      <td>0</td>\n",
       "      <td>0</td>\n",
       "      <td>1</td>\n",
       "      <td>0</td>\n",
       "      <td>0</td>\n",
       "      <td>...</td>\n",
       "      <td>0</td>\n",
       "      <td>1</td>\n",
       "      <td>1</td>\n",
       "      <td>0</td>\n",
       "      <td>0</td>\n",
       "      <td>0</td>\n",
       "      <td>0</td>\n",
       "      <td>0</td>\n",
       "      <td>0</td>\n",
       "      <td>0</td>\n",
       "    </tr>\n",
       "    <tr>\n",
       "      <th>\"MT. MCKINLEY\"</th>\n",
       "      <td>0</td>\n",
       "      <td>0</td>\n",
       "      <td>0</td>\n",
       "      <td>0</td>\n",
       "      <td>0</td>\n",
       "      <td>0</td>\n",
       "      <td>0</td>\n",
       "      <td>0</td>\n",
       "      <td>1</td>\n",
       "      <td>0</td>\n",
       "      <td>...</td>\n",
       "      <td>0</td>\n",
       "      <td>1</td>\n",
       "      <td>1</td>\n",
       "      <td>0</td>\n",
       "      <td>0</td>\n",
       "      <td>0</td>\n",
       "      <td>0</td>\n",
       "      <td>0</td>\n",
       "      <td>1</td>\n",
       "      <td>0</td>\n",
       "    </tr>\n",
       "    <tr>\n",
       "      <th>\"EBONY SUNSET\"</th>\n",
       "      <td>0</td>\n",
       "      <td>0</td>\n",
       "      <td>0</td>\n",
       "      <td>0</td>\n",
       "      <td>0</td>\n",
       "      <td>0</td>\n",
       "      <td>0</td>\n",
       "      <td>0</td>\n",
       "      <td>1</td>\n",
       "      <td>0</td>\n",
       "      <td>...</td>\n",
       "      <td>0</td>\n",
       "      <td>1</td>\n",
       "      <td>1</td>\n",
       "      <td>0</td>\n",
       "      <td>0</td>\n",
       "      <td>0</td>\n",
       "      <td>0</td>\n",
       "      <td>0</td>\n",
       "      <td>1</td>\n",
       "      <td>0</td>\n",
       "    </tr>\n",
       "    <tr>\n",
       "      <th>\"WINTER MIST\"</th>\n",
       "      <td>0</td>\n",
       "      <td>0</td>\n",
       "      <td>0</td>\n",
       "      <td>0</td>\n",
       "      <td>0</td>\n",
       "      <td>0</td>\n",
       "      <td>0</td>\n",
       "      <td>1</td>\n",
       "      <td>0</td>\n",
       "      <td>0</td>\n",
       "      <td>...</td>\n",
       "      <td>0</td>\n",
       "      <td>1</td>\n",
       "      <td>1</td>\n",
       "      <td>0</td>\n",
       "      <td>0</td>\n",
       "      <td>0</td>\n",
       "      <td>0</td>\n",
       "      <td>0</td>\n",
       "      <td>0</td>\n",
       "      <td>0</td>\n",
       "    </tr>\n",
       "    <tr>\n",
       "      <th>\"QUIET STREAM\"</th>\n",
       "      <td>0</td>\n",
       "      <td>0</td>\n",
       "      <td>0</td>\n",
       "      <td>0</td>\n",
       "      <td>0</td>\n",
       "      <td>0</td>\n",
       "      <td>0</td>\n",
       "      <td>0</td>\n",
       "      <td>0</td>\n",
       "      <td>0</td>\n",
       "      <td>...</td>\n",
       "      <td>0</td>\n",
       "      <td>1</td>\n",
       "      <td>1</td>\n",
       "      <td>0</td>\n",
       "      <td>0</td>\n",
       "      <td>0</td>\n",
       "      <td>0</td>\n",
       "      <td>0</td>\n",
       "      <td>0</td>\n",
       "      <td>0</td>\n",
       "    </tr>\n",
       "  </tbody>\n",
       "</table>\n",
       "<p>5 rows × 67 columns</p>\n",
       "</div>"
      ],
      "text/plain": [
       "                       APPLE_FRAME  AURORA_BOREALIS  BARN  BEACH  BOAT  \\\n",
       "TITLE                                                                    \n",
       "\"A WALK IN THE WOODS\"            0                0     0      0     0   \n",
       "\"MT. MCKINLEY\"                   0                0     0      0     0   \n",
       "\"EBONY SUNSET\"                   0                0     0      0     0   \n",
       "\"WINTER MIST\"                    0                0     0      0     0   \n",
       "\"QUIET STREAM\"                   0                0     0      0     0   \n",
       "\n",
       "                       BRIDGE  BUILDING  BUSHES  CABIN  CACTUS  ...  \\\n",
       "TITLE                                                           ...   \n",
       "\"A WALK IN THE WOODS\"       0         0       1      0       0  ...   \n",
       "\"MT. MCKINLEY\"              0         0       0      1       0  ...   \n",
       "\"EBONY SUNSET\"              0         0       0      1       0  ...   \n",
       "\"WINTER MIST\"               0         0       1      0       0  ...   \n",
       "\"QUIET STREAM\"              0         0       0      0       0  ...   \n",
       "\n",
       "                       TOMB_FRAME  TREE  TREES  TRIPLE_FRAME  WATERFALL  \\\n",
       "TITLE                                                                     \n",
       "\"A WALK IN THE WOODS\"           0     1      1             0          0   \n",
       "\"MT. MCKINLEY\"                  0     1      1             0          0   \n",
       "\"EBONY SUNSET\"                  0     1      1             0          0   \n",
       "\"WINTER MIST\"                   0     1      1             0          0   \n",
       "\"QUIET STREAM\"                  0     1      1             0          0   \n",
       "\n",
       "                       WAVES  WINDMILL  WINDOW_FRAME  WINTER  WOOD_FRAMED  \n",
       "TITLE                                                                      \n",
       "\"A WALK IN THE WOODS\"      0         0             0       0            0  \n",
       "\"MT. MCKINLEY\"             0         0             0       1            0  \n",
       "\"EBONY SUNSET\"             0         0             0       1            0  \n",
       "\"WINTER MIST\"              0         0             0       0            0  \n",
       "\"QUIET STREAM\"             0         0             0       0            0  \n",
       "\n",
       "[5 rows x 67 columns]"
      ]
     },
     "execution_count": 2,
     "metadata": {},
     "output_type": "execute_result"
    }
   ],
   "source": [
    "#learn more about the dataset from this article: https://fivethirtyeight.com/features/a-statistical-analysis-of-the-work-of-bob-ross/\n",
    "url = \"https://raw.githubusercontent.com/fivethirtyeight/data/master/bob-ross/elements-by-episode.csv\"\n",
    "df = pd.read_csv(url, index_col = 1)\n",
    "df = df.drop('EPISODE', 1) #remove the episode number because we already have the painting title as an identifier\n",
    "df.head()"
   ]
  },
  {
   "cell_type": "code",
   "execution_count": 3,
   "metadata": {},
   "outputs": [
    {
     "data": {
      "text/plain": [
       "2"
      ]
     },
     "execution_count": 3,
     "metadata": {},
     "output_type": "execute_result"
    }
   ],
   "source": [
    "sum(df.BOAT)"
   ]
  },
  {
   "cell_type": "markdown",
   "metadata": {},
   "source": [
    "###### K-means clustering\n",
    "\n",
    "split the observations into k user-defined groups such that each observation belongs to a cluster, and no observation belongs to more than one cluster\n",
    "\n",
    "how do we know the right value for k? (minimize within-cluster variation, you can do this many ways, but most people use squared euclidean distance )\n"
   ]
  },
  {
   "cell_type": "code",
   "execution_count": 4,
   "metadata": {},
   "outputs": [],
   "source": [
    "#randomly assign an initial group (1-K) for each observation\n",
    "#until cluster assignments stop changing: \n",
    "    #compute the centroid of each cluster\n",
    "    #assign each observation to the cluster with the closest centroid"
   ]
  },
  {
   "cell_type": "code",
   "execution_count": 50,
   "metadata": {},
   "outputs": [
    {
     "data": {
      "text/plain": [
       "Text(0, 0.5, 'within-cluster variance')"
      ]
     },
     "execution_count": 50,
     "metadata": {},
     "output_type": "execute_result"
    },
    {
     "data": {
      "image/png": "[encoded data removed]",
      "text/plain": [
       "<Figure size 432x288 with 1 Axes>"
      ]
     },
     "metadata": {
      "needs_background": "light"
     },
     "output_type": "display_data"
    }
   ],
   "source": [
    "from sklearn.cluster import KMeans\n",
    "\n",
    "# X = df.iloc[:, 1:]\n",
    "# print(X.head())\n",
    "wcv = []\n",
    "cluster_plots = []\n",
    "for k in range(2,12): \n",
    "    kmeans = KMeans(n_clusters=k)\n",
    "    fit = kmeans.fit(df)\n",
    "    wcv.append(kmeans.inertia_) #within-cluster variance\n",
    "    \n",
    "    \n",
    "    \n",
    "plt.plot(range(2,12), wcv)\n",
    "plt.xlabel(\"number of clusters\")\n",
    "plt.ylabel(\"within-cluster variance\")"
   ]
  },
  {
   "cell_type": "code",
   "execution_count": null,
   "metadata": {},
   "outputs": [],
   "source": []
  },
  {
   "cell_type": "markdown",
   "metadata": {},
   "source": [
    "###### Heirarchical clustering\n",
    "\n",
    "doesn't require us to choose the number of clusters\n",
    "\n",
    "uses a tree-based method\n"
   ]
  },
  {
   "cell_type": "code",
   "execution_count": 71,
   "metadata": {},
   "outputs": [
    {
     "data": {
      "image/png": "[encoded data removed]",
      "text/plain": [
       "<Figure size 1800x720 with 1 Axes>"
      ]
     },
     "metadata": {
      "needs_background": "light"
     },
     "output_type": "display_data"
    }
   ],
   "source": [
    "from scipy.cluster.hierarchy import dendrogram, linkage\n",
    "\n",
    "plt.figure(figsize=(25, 10))\n",
    "dendrogram(linkage(df, method='ward'))\n",
    "plt.show()"
   ]
  },
  {
   "cell_type": "markdown",
   "metadata": {},
   "source": [
    "###### Principal Component Analysis \n",
    "\n",
    "Helps us find the most \"important\" variables by creating a composite set of varaibles defined by the variance in each direction\n",
    "\n",
    "Usually used for dimension reduction"
   ]
  },
  {
   "cell_type": "code",
   "execution_count": 81,
   "metadata": {},
   "outputs": [
    {
     "name": "stdout",
     "output_type": "stream",
     "text": [
      "[0.08423984 0.05220288 0.04617684 0.03538854 0.03266029]\n"
     ]
    }
   ],
   "source": [
    "from sklearn.preprocessing import StandardScaler\n",
    "from sklearn.decomposition import PCA\n",
    "\n",
    "scaled = StandardScaler().fit_transform(df)\n",
    "pca = PCA(n_components=5) #can have as many PCs as there are varibles\n",
    "fit = pca.fit_transform(scaled)\n",
    "print(pca.explained_variance_ratio_)\n",
    "\n"
   ]
  },
  {
   "cell_type": "code",
   "execution_count": 85,
   "metadata": {},
   "outputs": [
    {
     "data": {
      "image/png": "[encoded data removed]",
      "text/plain": [
       "<Figure size 720x720 with 1 Axes>"
      ]
     },
     "metadata": {
      "needs_background": "light"
     },
     "output_type": "display_data"
    }
   ],
   "source": [
    "#biplot code from https://stackoverflow.com/questions/39216897/plot-pca-loadings-and-loading-in-biplot-in-sklearn-like-rs-autoplot\n",
    "def myplot(score,coeff,labels=None):\n",
    "    xs = score[:,0]\n",
    "    ys = score[:,1]\n",
    "    n = coeff.shape[0]\n",
    "    scalex = 1.0/(xs.max() - xs.min())\n",
    "    scaley = 1.0/(ys.max() - ys.min())\n",
    "    plt.scatter(xs * scalex,ys * scaley)\n",
    "    for i in range(n):\n",
    "        plt.arrow(0, 0, coeff[i,0], coeff[i,1],color = 'r',alpha = 0.5)\n",
    "        if labels is None:\n",
    "            plt.text(coeff[i,0]* 1.15, coeff[i,1] * 1.15, \"Var\"+str(i+1), color = 'g', ha = 'center', va = 'center')\n",
    "        else:\n",
    "            plt.text(coeff[i,0]* 1.15, coeff[i,1] * 1.15, labels[i], color = 'g', ha = 'center', va = 'center')\n",
    "    plt.xlim(-1,1)\n",
    "    plt.ylim(-1,1)\n",
    "    plt.xlabel(\"PC1\")\n",
    "    plt.ylabel(\"PC2\")\n",
    "    plt.grid()\n",
    "\n",
    "#Call the function. Use only the 2 PCs.\n",
    "plt.figure(figsize=(10, 10))\n",
    "myplot(fit[:,0:2],np.transpose(pca.components_[0:2, :]))\n",
    "plt.show()"
   ]
  },
  {
   "cell_type": "code",
   "execution_count": 95,
   "metadata": {},
   "outputs": [
    {
     "name": "stdout",
     "output_type": "stream",
     "text": [
      "['TREES', 'MOUNTAINS', 'MOON', 'OVAL_FRAME']\n"
     ]
    }
   ],
   "source": [
    "features = [59, 38, 36, 41]\n",
    "print([df.columns.values[f] for f in features])"
   ]
  },
  {
   "cell_type": "markdown",
   "metadata": {},
   "source": [
    "### Supervised Learning\n",
    "\n",
    "Has a response variable (dependent variable)\n",
    "\n",
    "You can do predictions\n",
    "\n",
    "Does the painting have a mountain? "
   ]
  },
  {
   "cell_type": "code",
   "execution_count": 97,
   "metadata": {},
   "outputs": [
    {
     "data": {
      "text/plain": [
       "0.3970223325062035"
      ]
     },
     "execution_count": 97,
     "metadata": {},
     "output_type": "execute_result"
    }
   ],
   "source": [
    "sum(df.MOUNTAIN)/len(df.MOUNTAIN)"
   ]
  },
  {
   "cell_type": "markdown",
   "metadata": {},
   "source": [
    "###### Random forest"
   ]
  },
  {
   "cell_type": "code",
   "execution_count": 100,
   "metadata": {},
   "outputs": [],
   "source": [
    "#training and testing \n",
    "from sklearn.model_selection import train_test_split\n",
    "\n",
    "y = df.MOUNTAIN\n",
    "X = df.drop(\"MOUNTAIN\", 1)\n",
    "X_train, X_test, y_train, y_test = train_test_split(\n",
    "    X, y, test_size=0.33, random_state=42)"
   ]
  },
  {
   "cell_type": "code",
   "execution_count": 105,
   "metadata": {},
   "outputs": [
    {
     "name": "stdout",
     "output_type": "stream",
     "text": [
      "Accuracy: 0.9548872180451128\n",
      "AUC: 0.9423076923076923\n"
     ]
    }
   ],
   "source": [
    "from sklearn.ensemble import RandomForestClassifier\n",
    "from sklearn import metrics\n",
    "\n",
    "forest = RandomForestClassifier(n_estimators = 100)\n",
    "forest.fit(X_train, y_train)\n",
    "\n",
    "yhat = forest.predict(X_test)\n",
    "print(\"Accuracy:\",metrics.accuracy_score(y_test, yhat))\n",
    "print(\"AUC:\",metrics.roc_auc_score(y_test, yhat))"
   ]
  },
  {
   "cell_type": "markdown",
   "metadata": {},
   "source": [
    "###### K-Nearest Neighbors"
   ]
  },
  {
   "cell_type": "code",
   "execution_count": 108,
   "metadata": {},
   "outputs": [
    {
     "name": "stdout",
     "output_type": "stream",
     "text": [
      "Accuracy: 0.9323308270676691\n",
      "AUC: 0.9134615384615384\n"
     ]
    }
   ],
   "source": [
    "from sklearn.neighbors import KNeighborsClassifier\n",
    "\n",
    "neighbors = KNeighborsClassifier(n_neighbors=3)\n",
    "neighbors.fit(X_train, y_train)\n",
    "\n",
    "yhat = neighbors.predict(X_test)\n",
    "print(\"Accuracy:\",metrics.accuracy_score(y_test, yhat))\n",
    "print(\"AUC:\",metrics.roc_auc_score(y_test, yhat))"
   ]
  },
  {
   "cell_type": "markdown",
   "metadata": {},
   "source": [
    "###### Support Vector Classifier"
   ]
  },
  {
   "cell_type": "code",
   "execution_count": 109,
   "metadata": {},
   "outputs": [
    {
     "name": "stdout",
     "output_type": "stream",
     "text": [
      "Accuracy: 0.9323308270676691\n",
      "AUC: 0.9134615384615384\n"
     ]
    }
   ],
   "source": [
    "from sklearn import svm\n",
    "\n",
    "svc = svm.SVC(kernel='linear')\n",
    "svc.fit(X_train, y_train)\n",
    "\n",
    "yhat = neighbors.predict(X_test)\n",
    "print(\"Accuracy:\",metrics.accuracy_score(y_test, yhat))\n",
    "print(\"AUC:\",metrics.roc_auc_score(y_test, yhat))"
   ]
  },
  {
   "cell_type": "code",
   "execution_count": null,
   "metadata": {},
   "outputs": [],
   "source": []
  }
 ],
 "metadata": {
  "kernelspec": {
   "display_name": "Python 3",
   "language": "python",
   "name": "python3"
  },
  "language_info": {
   "codemirror_mode": {
    "name": "ipython",
    "version": 3
   },
   "file_extension": ".py",
   "mimetype": "text/x-python",
   "name": "python",
   "nbconvert_exporter": "python",
   "pygments_lexer": "ipython3",
   "version": "3.6.9"
  }
 },
 "nbformat": 4,
 "nbformat_minor": 2
}
